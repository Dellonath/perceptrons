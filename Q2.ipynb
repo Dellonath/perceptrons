{
 "cells": [
  {
   "cell_type": "code",
   "execution_count": 7,
   "metadata": {},
   "outputs": [],
   "source": [
    "import pandas as pd\n",
    "from math import exp, pow\n",
    "from random import uniform, sample, random"
   ]
  },
  {
   "cell_type": "code",
   "execution_count": 8,
   "metadata": {},
   "outputs": [],
   "source": [
    "def sigmoide(x):\n",
    "    if 1/(1+exp(-x)) <= 0:\n",
    "        return -1\n",
    "    return 1\n",
    "\n",
    "def derivadaSigmoide(x):\n",
    "    return exp(-x)/pow(exp(-x) + 1, 2)\n",
    "\n",
    "def sinal(x1, x2):\n",
    "    H = sigmoide(x1*h[0] + x2*h[1] + 1*h[2])\n",
    "    O = sigmoide(x1*o[0] + H*o[1] + x2*o[2] + 1*o[3])\n",
    "    return O\n",
    "    \n",
    "def aprendizado(x1, x2):\n",
    "    global h\n",
    "    global o\n",
    "    erro = 0\n",
    "    \n",
    "    for j in range(4):\n",
    "        H = sigmoide(x1*h[0] + x2*h[1] + 1*h[2]) \n",
    "        O = sigmoide(x1*o[0] + H*o[1] + x2*o[2] + 1*o[3])\n",
    "        \n",
    "        erroO = dados.iloc[j][2] - O\n",
    "        \n",
    "        h = pd.Series(h) + 0.2 * (erro) * derivadaSigmoide(H) * pd.Series([x1, x2, 1])\n",
    "        o = pd.Series(o) + 0.2 * (erro) * pd.Series([x1, H, x2, 1])"
   ]
  },
  {
   "cell_type": "code",
   "execution_count": 9,
   "metadata": {},
   "outputs": [],
   "source": [
    "global dados\n",
    "dados = pd.DataFrame([(-1, -1, -1), (1, -1, 1), (-1, 1, 1), (1, 1, -1)], columns = ['x', 'y', 'classe'])\n",
    "\n",
    "global h\n",
    "#h = pd.Series([uniform(-5, 5) for i in range(3)])\n",
    "h = pd.Series([-7.0, 2.6, -7.0])\n",
    "\n",
    "global o\n",
    "#o = pd.Series([uniform(-5, 5) for i in range(4)])\n",
    "o = pd.Series([-5.0, 7.0, -4.0, -11.0])"
   ]
  },
  {
   "cell_type": "code",
   "execution_count": 10,
   "metadata": {},
   "outputs": [],
   "source": [
    "for i in range(50):\n",
    "    for j in range(4):\n",
    "        aprendizado(dados.iloc[j][0], dados.iloc[j][1])"
   ]
  },
  {
   "cell_type": "code",
   "execution_count": 11,
   "metadata": {},
   "outputs": [
    {
     "name": "stdout",
     "output_type": "stream",
     "text": [
      "1\n",
      "1\n",
      "1\n",
      "1\n"
     ]
    }
   ],
   "source": [
    "for i in range(4):\n",
    "    print(sinal(dados.iloc[i][0], dados.iloc[i][1]))"
   ]
  },
  {
   "cell_type": "code",
   "execution_count": null,
   "metadata": {},
   "outputs": [],
   "source": []
  }
 ],
 "metadata": {
  "kernelspec": {
   "display_name": "Python 3",
   "language": "python",
   "name": "python3"
  },
  "language_info": {
   "codemirror_mode": {
    "name": "ipython",
    "version": 3
   },
   "file_extension": ".py",
   "mimetype": "text/x-python",
   "name": "python",
   "nbconvert_exporter": "python",
   "pygments_lexer": "ipython3",
   "version": "3.7.6"
  }
 },
 "nbformat": 4,
 "nbformat_minor": 4
}
