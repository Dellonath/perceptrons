{
 "cells": [
  {
   "cell_type": "code",
   "execution_count": 71,
   "metadata": {},
   "outputs": [
    {
     "name": "stdout",
     "output_type": "stream",
     "text": [
      "Saída correta:     0 1 1 0 \n",
      "Saída perceptron:  0 1 1 0 "
     ]
    }
   ],
   "source": [
    "import numpy as np\n",
    "\n",
    "def sigmoide(x):\n",
    "    return 1.0/(1.0 + np.exp(-x))\n",
    "\n",
    "def sigmoideDerivada(x):\n",
    "    return x*(1.0 - x)\n",
    "\n",
    "class Perceptron:\n",
    "    def __init__(self, entradas):\n",
    "        self.entradas = entradas\n",
    "        self.TamEntrada =len(self.entradas)\n",
    "        self.TamCadaEntrada = len(self.entradas[0])\n",
    "\n",
    "        self.pesosI = np.random.random((self.TamCadaEntrada, self.TamEntrada))\n",
    "        self.pesosH = np.random.random((self.TamEntrada, 1))\n",
    "\n",
    "    def sinal(self, inp):\n",
    "        s1 = sigmoide(np.dot(inp, self.pesosI))\n",
    "        s2 = sigmoide(np.dot(s1, self.pesosH))\n",
    "        return s2\n",
    "\n",
    "    def treino(self, entradas, saidas, itera):\n",
    "        for i in range(itera):\n",
    "            camada0 = entradas\n",
    "            camada1 = sigmoide(np.dot(camada0, self.pesosI))\n",
    "            camada2 = sigmoide(np.dot(camada1, self.pesosH))\n",
    "\n",
    "            camada2Erro = saidas - camada2\n",
    "\n",
    "            camada2Delta = np.multiply(camada2Erro, sigmoideDerivada(camada2))\n",
    "\n",
    "            camada1Erro = np.dot(camada2Delta, self.pesosH.T)\n",
    "            camada1Delta = np.multiply(camada1Erro, sigmoideDerivada(camada1))\n",
    "\n",
    "            self.pesosH += np.dot(camada1.T, camada2Delta)\n",
    "            self.pesosI += np.dot(camada0.T, camada1Delta)\n",
    "\n",
    "entradas=np.array([[0, 0], [0, 1], [1, 0], [1, 1]])\n",
    "saidas=np.array([[0], [1], [1], [0]])\n",
    "\n",
    "n = Perceptron(entradas)\n",
    "n.treino(entradas, saidas, 500)\n",
    "\n",
    "print('Saída correta:     ', end = '')\n",
    "for i in range(4):\n",
    "    print(outputs[i][0], end = ' ')\n",
    "print('\\nSaída perceptron:  ', end = '')\n",
    "for i in n.sinal(entradas):\n",
    "    print(int(round(i[0])), end = ' ')"
   ]
  },
  {
   "cell_type": "code",
   "execution_count": null,
   "metadata": {},
   "outputs": [],
   "source": []
  }
 ],
 "metadata": {
  "kernelspec": {
   "display_name": "Python 3",
   "language": "python",
   "name": "python3"
  },
  "language_info": {
   "codemirror_mode": {
    "name": "ipython",
    "version": 3
   },
   "file_extension": ".py",
   "mimetype": "text/x-python",
   "name": "python",
   "nbconvert_exporter": "python",
   "pygments_lexer": "ipython3",
   "version": "3.7.6"
  }
 },
 "nbformat": 4,
 "nbformat_minor": 4
}
