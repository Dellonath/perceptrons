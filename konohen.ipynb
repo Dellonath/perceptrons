{
 "cells": [
  {
   "cell_type": "code",
   "execution_count": 16,
   "metadata": {},
   "outputs": [],
   "source": [
    "from sklearn.datasets import make_blobs\n",
    "import seaborn as sns\n",
    "import matplotlib.pyplot as plt\n",
    "import numpy as np\n",
    "import random as rd\n",
    "%matplotlib inline"
   ]
  },
  {
   "cell_type": "code",
   "execution_count": 17,
   "metadata": {},
   "outputs": [],
   "source": [
    "def aprendizado(tupla):\n",
    "    global pesosA\n",
    "    global pesosB\n",
    "    global pesosC\n",
    "    \n",
    "    A = pow(tupla[0] - pesosA[0], 2) + pow(tupla[1] - pesosA[1], 2)\n",
    "    B = pow(tupla[0] - pesosB[0], 2) + pow(tupla[1] - pesosB[1], 2)\n",
    "    C = pow(tupla[0] - pesosC[0], 2) + pow(tupla[1] - pesosC[1], 2)\n",
    "\n",
    "    if A < B and A < C:\n",
    "        pesosA[0] += 0.1*(tupla[0] - pesosA[0])\n",
    "        pesosA[1] += 0.1*(tupla[1] - pesosA[1])\n",
    "    elif B < A and B < C:\n",
    "        pesosB[0] += 0.1*(tupla[0] - pesosB[0])\n",
    "        pesosB[1] += 0.1*(tupla[1] - pesosB[1])\n",
    "    elif C < A and C < B:\n",
    "        pesosC[0] += 0.1*(tupla[0] - pesosC[0])\n",
    "        pesosC[1] += 0.1*(tupla[1] - pesosC[1])"
   ]
  },
  {
   "cell_type": "code",
   "execution_count": 22,
   "metadata": {
    "scrolled": false
   },
   "outputs": [
    {
     "name": "stdout",
     "output_type": "stream",
     "text": [
      "PesosA:  [2, 4]\n",
      "PesosB:  [3, 1]\n",
      "PesosC:  [5, 1]\n",
      "\n",
      "PesosA:  [1.5253066493597118, 5.511247589875983]\n",
      "PesosB:  [1.1967095475854534, 3.9735523343174517]\n",
      "PesosC:  [10.172414923733713, 4.0847257461334285]\n"
     ]
    },
    {
     "data": {
      "text/plain": [
       "<AxesSubplot:>"
      ]
     },
     "execution_count": 22,
     "metadata": {},
     "output_type": "execute_result"
    },
    {
     "data": {
      "image/png": "[encoded data removed]",
      "text/plain": [
       "<Figure size 864x504 with 1 Axes>"
      ]
     },
     "metadata": {},
     "output_type": "display_data"
    }
   ],
   "source": [
    "X, y = make_blobs(n_samples=300, centers=3, n_features=2) \n",
    "x1 = np.hsplit(X,2)[0].reshape(1, len(np.hsplit(X,2)[0]))[0]\n",
    "x2 = np.hsplit(X,2)[1].reshape(1, len(np.hsplit(X,2)[0]))[0]\n",
    "\n",
    "global pesosA \n",
    "pesosA = [rd.randint(int(min(x1)), int(max(x1))), rd.randint(int(min(x2)), int(max(x2)))] \n",
    "global pesosB \n",
    "pesosB = [rd.randint(int(min(x1)), int(max(x1))), rd.randint(int(min(x2)), int(max(x2)))]\n",
    "global pesosC\n",
    "pesosC = [rd.randint(int(min(x1)), int(max(x1))), rd.randint(int(min(x2)), int(max(x2)))]\n",
    "\n",
    "print('PesosA: ', pesosA)\n",
    "print('PesosB: ', pesosB)\n",
    "print('PesosC: ', pesosC)\n",
    "\n",
    "for j in range(50):\n",
    "    for i in range(len(X)):\n",
    "        aprendizado(X[i])\n",
    "\n",
    "print('\\nPesosA: ', pesosA)\n",
    "print('PesosB: ', pesosB)\n",
    "print('PesosC: ', pesosC)\n",
    "\n",
    "plt.figure(figsize=(12, 7))\n",
    "plt.style.use('dark_background')\n",
    "\n",
    "sns.scatterplot(x = x1, y = x2, color = 'blue', legend = False)\n",
    "sns.scatterplot(x = [pesosA[0], pesosB[0], pesosC[0]], y = [pesosA[1], pesosB[1], pesosC[1]], color = 'red', s = 200, legend = False)\n",
    "\n"
   ]
  },
  {
   "cell_type": "code",
   "execution_count": null,
   "metadata": {},
   "outputs": [],
   "source": []
  }
 ],
 "metadata": {
  "kernelspec": {
   "display_name": "Python 3",
   "language": "python",
   "name": "python3"
  },
  "language_info": {
   "codemirror_mode": {
    "name": "ipython",
    "version": 3
   },
   "file_extension": ".py",
   "mimetype": "text/x-python",
   "name": "python",
   "nbconvert_exporter": "python",
   "pygments_lexer": "ipython3",
   "version": "3.8.5"
  }
 },
 "nbformat": 4,
 "nbformat_minor": 4
}
